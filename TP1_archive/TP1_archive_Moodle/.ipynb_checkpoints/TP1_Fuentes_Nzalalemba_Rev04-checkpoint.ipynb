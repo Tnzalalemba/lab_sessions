{
 "cells": [
  {
   "cell_type": "markdown",
   "metadata": {},
   "source": [
    "# TP1 : Linear regression"
   ]
  },
  {
   "cell_type": "markdown",
   "metadata": {},
   "source": [
    "The purpose of this work is to implement least square linear regression to medical data. The problem is based on an example described in the book by Hastie & Tibshirani (2009) pp. 3-4 & 49-63. Data come from a study published by Stamey et al. (1989). This study aims at the prediction of the level of prostate specific antigen, denoted by `lpsa` below, from the\n",
    "results of clinical exams. These exams are carried out before a possible\n",
    "prostatectomy.\n",
    "\n",
    "The measurements are log cancer volume `lcavol`, log prostate \n",
    "weight `lweight`, age of the patient `age`, log of benign prostatic \n",
    "hyperplasia amount `lbph`, seminal vesicle invasion `svi`, log of capsular \n",
    "penetration `lcp`, Gleason score `gleason`, and percent of Gleason scores 4 or \n",
    "5 `pgg45`. The variables `svi` and `gleason` are categorical, others are\n",
    "quantitative. There are `p=8` entries.\n",
    "The work is decomposed in the following tasks:\n",
    "\n",
    "* read and format the data : extraction of the training and test sets,\n",
    "* apply least square regression method to predict `lpsa` from the entries,\n",
    "* study the estimated error on the test set (validation),\n",
    "* identify the most significant entries by using a rejection test,\n",
    "* apply regularized least square regression method (ridge regression),\n",
    "* search for an optimal regularization parameter thanks to\n",
    "cross-validation."
   ]
  },
  {
   "cell_type": "code",
   "execution_count": 62,
   "metadata": {
    "collapsed": true
   },
   "outputs": [],
   "source": [
    "import csv\n",
    "# import os\n",
    "from pylab import *\n",
    "import numpy as np\n",
    "from numpy import linalg as la\n",
    "\n",
    "import pandas as pd\n",
    "import seaborn as sns"
   ]
  },
  {
   "cell_type": "markdown",
   "metadata": {},
   "source": [
    "## Read & Normalize data\n",
    "Data are stored in ASCII format: \n",
    "\n",
    "* the first column enumerates the data from 1 à 97 (97 male subjects). \n",
    "* columns 2 to 9 contain the entries themselves. \n",
    "* column 10 contains target values. \n",
    "* column 11 contains label 1 for the training set, \n",
    "and 2 for the test set."
   ]
  },
  {
   "cell_type": "code",
   "execution_count": 63,
   "metadata": {
    "collapsed": true
   },
   "outputs": [],
   "source": [
    "#%% To read data from spaced separated float numbers\n",
    "# x, y = np.loadtxt(c, delimiter=',', usecols=(0, 2), unpack=True)\n",
    "\n",
    "data_init = np.loadtxt('prostate_data_sansheader.txt')\n",
    "\n",
    "data = data_init[:,1:]   # we get rid of the indices (1 to 97)\n",
    "\n",
    "#%% Extraction of training/test sets\n",
    "Itrain = np.nonzero(data[:,-1]==1)\n",
    "data_train=data[Itrain]   # original data\n",
    "\n",
    "Itest = np.nonzero(data[:,-1]==0)\n",
    "data_test = data[Itest]   # original data"
   ]
  },
  {
   "cell_type": "markdown",
   "metadata": {},
   "source": [
    "**Normalization of the data** *with respect to the mean and standard deviation of the training set*."
   ]
  },
  {
   "cell_type": "code",
   "execution_count": 64,
   "metadata": {},
   "outputs": [
    {
     "name": "stdout",
     "output_type": "stream",
     "text": [
      "[  1.23328245   0.47303067   7.44601122   1.45269103   0.41684299\n",
      "   1.39024269   0.70355366  29.08227243]\n"
     ]
    }
   ],
   "source": [
    "M_train = data_train\n",
    "M_test = data_test \n",
    "moy = np.zeros((8,))\n",
    "sigma = np.zeros((8,))\n",
    "\n",
    "# With a FOR loop :\n",
    "for k in range(8): # 8 columns of entries\n",
    "    moy[k]=np.mean(data_train[:,k])\n",
    "    sigma[k] = np.std(data_train[:,k], ddof=0)\n",
    "    M_train[:,k] = (data_train[:,k]-moy[k])/sigma[k] # normalized: centered, variance 1\n",
    "    M_test[:,k] = (data_test[:,k]-moy[k])/sigma[k]   # same normalization for test set\n",
    "\n",
    "print(sigma)"
   ]
  },
  {
   "cell_type": "code",
   "execution_count": 65,
   "metadata": {
    "collapsed": true
   },
   "outputs": [],
   "source": [
    "# Alternative WITHOUT FOR\n",
    "normalize = lambda vec: (vec-np.mean(vec))/np.std(vec)    # inline function \n",
    "M_train = np.array( [ normalize(vec) for vec in data_train[:,0:8].T ] ).T  # iterate on vec direct / ARRAY not LIST\n",
    "moy = np.array( [ np.mean(vec) for vec in data_train[:,0:8].T ] )\n",
    "sigma = np.array( [ np.std(vec, ddof=0) for vec in data_train[:,0:8].T ] )\n",
    "\n",
    "M_test = np.array([ (data_test[:,k]-moy[k])/sigma[k] for k in range(M_train.shape[1]) ] ).T"
   ]
  },
  {
   "cell_type": "markdown",
   "metadata": {},
   "source": [
    "# Part 1 : simple least square regression"
   ]
  },
  {
   "cell_type": "markdown",
   "metadata": {},
   "source": [
    "## Preliminary questions\n",
    " \n",
    " * Compute the autocovariance matrix from the training set.\n",
    " * Observe carefully & Comment. What kind of information can you get ? "
   ]
  },
  {
   "cell_type": "code",
   "execution_count": 66,
   "metadata": {},
   "outputs": [
    {
     "name": "stdout",
     "output_type": "stream",
     "text": [
      "[[ 1.          0.30023199  0.28632427  0.06316772  0.59294913  0.69204308\n",
      "   0.42641407  0.48316136]\n",
      " [ 0.30023199  1.          0.31672347  0.43704154  0.18105448  0.15682859\n",
      "   0.02355821  0.07416632]\n",
      " [ 0.28632427  0.31672347  1.          0.28734645  0.12890226  0.1729514\n",
      "   0.36591512  0.27580573]\n",
      " [ 0.06316772  0.43704154  0.28734645  1.         -0.1391468  -0.08853456\n",
      "   0.03299215 -0.03040382]\n",
      " [ 0.59294913  0.18105448  0.12890226 -0.1391468   1.          0.67124021\n",
      "   0.30687537  0.48135774]\n",
      " [ 0.69204308  0.15682859  0.1729514  -0.08853456  0.67124021  1.\n",
      "   0.47643684  0.66253335]\n",
      " [ 0.42641407  0.02355821  0.36591512  0.03299215  0.30687537  0.47643684\n",
      "   1.          0.7570565 ]\n",
      " [ 0.48316136  0.07416632  0.27580573 -0.03040382  0.48135774  0.66253335\n",
      "   0.7570565   1.        ]]\n"
     ]
    },
    {
     "data": {
      "text/plain": [
       "'\\nThe autocovariance matrix is symmetric.\\nWe can notice the the diagonal is giving us the varaiance (the square of the standard deviation) of features and\\nof the target which is the last value of the diagonal. The rest of the covariance matrix is telling about the\\ncovariance between the features (each other) and between the features and the target.\\nThe covariances values are non-zero. Thus, the features are varying together, as well with the target.\\nWe can also notice that, since the features have been normalized, their variances (in the diagonal) are equal to 1, which is\\nthe square of their standard deviation.\\n\\nThe 1st feature has the strongest relationship with the target where the covariance is 0.879.\\nThe 3rd feature has the weakest relationship with the target where the covariance is 0.273.\\n\\nThe 1st feature has a weak relationship with the 4th feature where the covariance is 0.063.\\nThe 2nd feature has a weak relationship with the 7th feature where the covariance is 0.023.\\nThe 4th feature has a weak relationship with the 8th feature where the covariance is-0.030,\\nand they are not varying in the same direction since their covariance is negative.\\n\\nThe 1st feature has a strong relationship with the 6th feature where the covariance is 0.692.\\nThe 5th feature has a strong relationship with the 6th feature where the covariance is 0.671.\\nThe 7th feature has a strong relationship with the 8th feature where the covariance is 0.757.\\nThe 8th feature has a strong relationship with the 6th feature where the covariance is 0.662.\\n\\nThe 4th and the 5th features are stongly varying in opposite directions since the record the lowest covariance value\\nwhich is -0.139\\n'"
      ]
     },
     "execution_count": 66,
     "metadata": {},
     "output_type": "execute_result"
    }
   ],
   "source": [
    "# Preliminary questions\n",
    "\n",
    "# We are computing the autocovariance matrix of the trainning dataset containing the information about the features and the target.\n",
    "cov_matrix = np.cov(M_train[:,0:9].T, ddof=0) # ddof = 0 to force the computation using the simple average\n",
    "\n",
    "print(cov_matrix)\n",
    "\n",
    "\"\"\"\n",
    "We can also compute the autocovariance matrix of training set with features only with the below exprrssion:\n",
    "cov_matrix = np.cov(M_train[:,0:8].T, ddof=0)\n",
    "\n",
    "However, we prefer computing the autocovariance of the training set with target involved in order to have an\n",
    "insight of how the features are relates to the target.\n",
    "\"\"\"\n",
    "\n",
    "\n",
    "# Comments\n",
    "\"\"\"\n",
    "The autocovariance matrix is symmetric.\n",
    "We can notice the the diagonal is giving us the varaiance (the square of the standard deviation) of features and\n",
    "of the target which is the last value of the diagonal. The rest of the covariance matrix is telling about the\n",
    "covariance between the features (each other) and between the features and the target.\n",
    "The covariances values are non-zero. Thus, the features are varying together, as well with the target.\n",
    "We can also notice that, since the features have been normalized, their variances (in the diagonal) are equal to 1, which is\n",
    "the square of their standard deviation.\n",
    "\n",
    "The 1st feature has the strongest relationship with the target where the covariance is 0.879.\n",
    "The 3rd feature has the weakest relationship with the target where the covariance is 0.273.\n",
    "\n",
    "The 1st feature has a weak relationship with the 4th feature where the covariance is 0.063.\n",
    "The 2nd feature has a weak relationship with the 7th feature where the covariance is 0.023.\n",
    "The 4th feature has a weak relationship with the 8th feature where the covariance is-0.030,\n",
    "and they are not varying in the same direction since their covariance is negative.\n",
    "\n",
    "The 1st feature has a strong relationship with the 6th feature where the covariance is 0.692.\n",
    "The 5th feature has a strong relationship with the 6th feature where the covariance is 0.671.\n",
    "The 7th feature has a strong relationship with the 8th feature where the covariance is 0.757.\n",
    "The 8th feature has a strong relationship with the 6th feature where the covariance is 0.662.\n",
    "\n",
    "The 4th and the 5th features are stongly varying in opposite directions since the record the lowest covariance value\n",
    "which is -0.139\n",
    "\"\"\""
   ]
  },
  {
   "cell_type": "markdown",
   "metadata": {},
   "source": [
    "Quelques rappels à propos de la notion de covariance : https://fr.wikipedia.org/wiki/Covariance"
   ]
  },
  {
   "cell_type": "markdown",
   "metadata": {},
   "source": [
    "## Exercise 1 : least square regression \n",
    " * Build the matrix of features `X_train` for the training set, the first column is made of ones.\n",
    " * Estimate the regression vector `beta_hat` (estimates= `X*beta_hat`)\n",
    " _Indication: you may either use the function `inv` or another more efficient way to compute $A^{-1}B$ (think of `A\\B`)._ \n",
    " * What is the value of the first coefficient `beta_hat[0]` ? What does it correspond to ?\n",
    " * Estimate the prediction error (quadratic error) from the test set.\n",
    "\n",
    "\n",
    "*Indication: be careful of using `X_test` defined above, normalized w.r.t. the training data set. You can estimate this error by using:*"
   ]
  },
  {
   "cell_type": "code",
   "execution_count": 67,
   "metadata": {
    "collapsed": true
   },
   "outputs": [],
   "source": [
    "t_test = data_test[:,8]   # target column\n",
    "N_test = data_test.shape[0]\n",
    "X_test = np.concatenate((np.ones((N_test,1)), M_test[:,0:8]), axis=1) \n",
    "# don't forget the 1st column of ones and normalization !"
   ]
  },
  {
   "cell_type": "code",
   "execution_count": 68,
   "metadata": {
    "collapsed": true
   },
   "outputs": [],
   "source": [
    "# Exercise 1\n",
    "\n",
    "# Build the matrix of features X_train\n",
    "t_train = data_train[:,8]   # target column\n",
    "N_train = data_train.shape[0]\n",
    "X_train = np.concatenate((np.ones((N_train,1)), M_train[:,0:8]), axis=1)"
   ]
  },
  {
   "cell_type": "code",
   "execution_count": 69,
   "metadata": {},
   "outputs": [
    {
     "name": "stdout",
     "output_type": "stream",
     "text": [
      "The regression vector beta_hat is [ 2.45234509  0.71104059  0.29045029 -0.14148182  0.21041951  0.30730025\n",
      " -0.28684075 -0.02075686  0.27526843]\n"
     ]
    }
   ],
   "source": [
    "# Estimate the regression vector beta_hat (estimates= X*beta_hat)\n",
    "\n",
    "beta_hat =np.matmul(inv(np.matmul(X_train.T,(X_train))),np.matmul(X_train.T,t_train))\n",
    "print(\"The regression vector beta_hat is \"+str(beta_hat))"
   ]
  },
  {
   "cell_type": "code",
   "execution_count": 70,
   "metadata": {},
   "outputs": [
    {
     "name": "stdout",
     "output_type": "stream",
     "text": [
      "The value of the first coefficient of beta_hat is 2.45234508507\n"
     ]
    },
    {
     "data": {
      "text/plain": [
       "'\\nThis value corresponds to the intercept or the bias. It is a constant value that represent the mean value of the target.\\n'"
      ]
     },
     "execution_count": 70,
     "metadata": {},
     "output_type": "execute_result"
    }
   ],
   "source": [
    "# What is the value of the first coefficient beta_hat[0] ? What does it correspond to ?\n",
    "print(\"The value of the first coefficient of beta_hat is \"+str(beta_hat[0]))\n",
    "\n",
    "\"\"\"\n",
    "This value corresponds to the intercept or the bias. It is a constant value that represent the mean value of the target.\n",
    "\"\"\""
   ]
  },
  {
   "cell_type": "code",
   "execution_count": 71,
   "metadata": {},
   "outputs": [
    {
     "name": "stdout",
     "output_type": "stream",
     "text": [
      "The prediction error is 0.521274005508\n"
     ]
    }
   ],
   "source": [
    "# Estimate the prediction error (quadratic error) from the test set.\n",
    "estimates = np.matmul(X_test,beta_hat)\n",
    "\n",
    "# Calculation of Mean Squared Error (MSE)\n",
    "MSE = np.mean(np.square(t_test - estimates))\n",
    "\n",
    "print(\"The prediction error is \"+str(MSE))"
   ]
  },
  {
   "cell_type": "markdown",
   "metadata": {},
   "source": [
    "## Rejection test, computation of Z-scores\n",
    "Now we turn to the selection of the most significant entries so that our predictor be more robust. The essential idea is that our estimates will be more robust if only the most significant entries are taken into account. As a consequence, note that we will *reduce the dimension* of the problem from |p=8| to some smaller dimension. The present approach uses a statistical test to decide whether the regression coefficient corresponding to some entry is significantly non-zero. Then we can decide either to put non significant coefficients to zero, or to select the significant entries only and estimate the new reduced regression vector.\n",
    "\n",
    "Let's assume that target values are noisy due to some white Gaussian\n",
    "noise with variance $\\sigma^2$ (see Hastie & Tibshirani p. 47). One can show that the estimated regression vector |beta_hat| is also Gaussian with variance\n",
    "\n",
    "$$ var (\\widehat{\\beta}) = (X^TX)^{-1}\\sigma^2.$$  \n",
    "\n",
    "One can also show that the estimator of the variance (from the training set)\n",
    "\n",
    "$$\\widehat{\\sigma^2}=\\frac{1}{(N-p-1)}\\sum (t_n-\\widehat{t}_n)^2$$\n",
    "\n",
    "obeys a Chi-2 distribution. As a consequence a Chi-square statistical test can be used to determine whether some coefficient $\\beta_j$ is\n",
    "significantly non-zero. To this aim, one defines the variables $z_j$\n",
    "named Z-scores which in turn obey a Fisher law, also called\n",
    "$t$-distribution, which are often used in statistics:\n",
    "\n",
    "$$ z_j = \\frac{\\beta_j}{\\widehat{\\sigma}\\sqrt{v_j}} $$\n",
    "\n",
    "where $v_j$ is the $j$-th diagonal element of the matrix $(X^TX)^{-1}$.\n",
    "For sake of simplicity, we will consider that the null hypothesis of\n",
    "$\\beta_j$ is rejected with probability 95% if the Z-score is greater than 2."
   ]
  },
  {
   "cell_type": "markdown",
   "metadata": {},
   "source": [
    "## Exercise 2\n",
    "1. Compute the Z-scores and select the most significant entries.\n",
    "2. Estimate the prediction error over the test set if only these significant \n",
    "entries are taken into account for regression by putting other regression \n",
    "coefficients to zero.\n",
    "3. Estimate the new regression vector when only the significant features\n",
    "are taken into account.\n",
    "4. Compare to previous results (Exercise 1).\n",
    "\n",
    "*Indication 1 : to sort a vector `Z` in descending order*\n",
    "`val = np.sort(np.abs(Z))[-1:0:-1]`\n",
    "\n",
    "\n",
    "*Indication 2 :* to extract the diagonal of a matrix,\n",
    "`vXX = np.diag(inv(X.T.dot(X),k=0)`"
   ]
  },
  {
   "cell_type": "code",
   "execution_count": 72,
   "metadata": {
    "collapsed": true
   },
   "outputs": [],
   "source": [
    "# Exercise 2\n",
    "\n",
    "# Compute the Z-scores and select the most significant entries.\n",
    "\n",
    "Sigma_square = np.std(t_train, ddof=0) # ddof = 0 to force the computation using the simple average\n",
    "var_beta_hat = inv(np.matmul(X_train.T,X_train))*np.square(Sigma_square)"
   ]
  },
  {
   "cell_type": "code",
   "execution_count": 73,
   "metadata": {
    "collapsed": true
   },
   "outputs": [],
   "source": [
    "t_hat_train = np.matmul(X_train,beta_hat) #Computed on the training set\n",
    "p = 8 # the number of features\n",
    "Sigma_square_hat = 1/(N_train-p-1)*np.sum(np.square(t_train-t_hat_train)) \n",
    "sigma_hat = np.sqrt(Sigma_square_hat)"
   ]
  },
  {
   "cell_type": "code",
   "execution_count": 74,
   "metadata": {
    "collapsed": true
   },
   "outputs": [],
   "source": [
    "vXX = np.diag(inv(X_train.T.dot(X_train)),k=0) # Extraction of the diagonal of a matrix"
   ]
  },
  {
   "cell_type": "code",
   "execution_count": 75,
   "metadata": {
    "collapsed": true
   },
   "outputs": [],
   "source": [
    "Z_scores = beta_hat/(sigma_hat*np.sqrt(vXX))"
   ]
  },
  {
   "cell_type": "code",
   "execution_count": 76,
   "metadata": {},
   "outputs": [
    {
     "name": "stdout",
     "output_type": "stream",
     "text": [
      "The Z-score is given by [ 28.18152744   5.36629046   2.75078939   1.39590898   2.05584563\n",
      "   2.46925518   1.86691264   0.14668121   1.73783972]\n"
     ]
    },
    {
     "data": {
      "text/plain": [
       "'\\nTherefore, we can select the 1st, the 2nd, the 4th and the 5th features + the intercept for predictions.\\nBecause their Z-scores are higher than 2.\\nThis is a direct consequense of the following assumption: \"the null hypothesis of Beta_j is rejected with probanility of\\n95% if the Z-score is greater than 2.\" \\n'"
      ]
     },
     "execution_count": 76,
     "metadata": {},
     "output_type": "execute_result"
    }
   ],
   "source": [
    "# We will consider that the null hypothesis of  βj  is rejected with probability 95% if the Z-score is greater than 2.\n",
    "print(\"The Z-score is given by \"+str(np.abs(Z_scores)))\n",
    "\n",
    "\"\"\"\n",
    "Therefore, we can select the 1st, the 2nd, the 4th and the 5th features + the intercept for predictions.\n",
    "Because their Z-scores are higher than 2.\n",
    "This is a direct consequense of the following assumption: \"the null hypothesis of Beta_j is rejected with probanility of\n",
    "95% if the Z-score is greater than 2.\" \n",
    "\"\"\""
   ]
  },
  {
   "cell_type": "markdown",
   "metadata": {},
   "source": [
    "Estimate the prediction error over the test set if only these significant entries are taken into account for regression by putting other regression coefficients to zero."
   ]
  },
  {
   "cell_type": "code",
   "execution_count": 77,
   "metadata": {},
   "outputs": [
    {
     "name": "stdout",
     "output_type": "stream",
     "text": [
      "The new regression vector beta_hat_new is [ 2.45234509  0.71104059  0.29045029  0.          0.21041951  0.30730025\n",
      "  0.          0.          0.        ]\n"
     ]
    }
   ],
   "source": [
    "# New beta_hat\n",
    "beta_hat_new = np.array([beta_hat[0], beta_hat[1], beta_hat[2], 0, beta_hat[4], beta_hat[5], 0, 0, 0])\n",
    "print(\"The new regression vector beta_hat_new is \"+str(beta_hat_new))"
   ]
  },
  {
   "cell_type": "code",
   "execution_count": 78,
   "metadata": {
    "collapsed": true
   },
   "outputs": [],
   "source": [
    "# Estimate the new regression vector when only the significant features are taken into account.\n",
    "estimates_new = np.matmul(X_test,beta_hat_new)"
   ]
  },
  {
   "cell_type": "code",
   "execution_count": 79,
   "metadata": {},
   "outputs": [
    {
     "name": "stdout",
     "output_type": "stream",
     "text": [
      "The new prediction error is 0.452226616073\n"
     ]
    }
   ],
   "source": [
    "# Computation of the new Mean Squared Error (MSE_new)\n",
    "MSE_new = np.mean(np.square(t_test - estimates_new))\n",
    "\n",
    "print(\"The new prediction error is \"+str(MSE_new))"
   ]
  },
  {
   "cell_type": "code",
   "execution_count": 80,
   "metadata": {},
   "outputs": [
    {
     "name": "stdout",
     "output_type": "stream",
     "text": [
      "In the Exercise 1, the MSE is 0.521274005508\n",
      "In Exercise 2, after feature selection, the MSE is 0.452226616073, which is smaller the one of Exercise 1\n",
      "Therefore, one can say that feature selection improved the prediction error! And the predictor is more robust !\n"
     ]
    }
   ],
   "source": [
    "# Compare to previous results (Exercise 1).\n",
    "print(\"In the Exercise 1, the MSE is \"+str(MSE))\n",
    "print(\"In Exercise 2, after feature selection, the MSE is \"+str(MSE_new)+\", which is smaller the one of Exercise 1\")\n",
    "print(\"Therefore, one can say that feature selection improved the prediction error! And the predictor is more robust !\")"
   ]
  },
  {
   "cell_type": "markdown",
   "metadata": {},
   "source": [
    "# Part 2: Regularized least squares\n",
    "This part deals with regularized least square regression. We denote\n",
    "by `beta_hat_reg` the resulting coefficients. This approach is an alternative to the selection based on statistical tests above. The idea is now to penalize large values of regression coefficients, *except for the bias*.\n",
    "\n",
    "We use the result:\n",
    "\n",
    "$$\\hat{\\beta} = (\\lambda I_p + X_c^T X_c)^{-1} X_c^T t_c$$\n",
    "\n",
    "where $X_c$ contains the normalized entries of the training data set with \n",
    "no column of ones (the bias should no be penalized and is processed). \n",
    "The targets `t_c` are therefore also centered, `t_c=t-mean(t)`.\n",
    " \n",
    "First, we estimate the bias $t_0$ to center the targets which yields the coefficient $\\beta_0$, that is `beta_hat_reg[0]` in Python.\n",
    "\n",
    "*Remark : the bias is estimated as the empirical average of targets.\n",
    "For tests, entries should be normalized with respect to the means and\n",
    "variances of the training data set (see exercise 3.5 p. 95 in Hastie & Tibshirani). Then work on the vector of entries with no column of ones.*"
   ]
  },
  {
   "cell_type": "markdown",
   "metadata": {},
   "source": [
    "## Exercise 3\n",
    "1. Use _ridge regression_ for penalty `lambda = 25` to estimate the regression vector. \n",
    "2. Estimate the prediction error from the test set.\n",
    "3. Compare the results (coefficients $\\beta$, error...) to previous ones.\n",
    "4. You may also compare these results to the result of best subset selection below:\n",
    "\n",
    "`beta_best = [2.477 0.74 0.316 0 0 0 0 0 0]`.\n",
    "\n",
    "*Indication : a simple way to obtain predictions for the test data set is the code below:*"
   ]
  },
  {
   "cell_type": "code",
   "execution_count": 81,
   "metadata": {},
   "outputs": [
    {
     "data": {
      "text/plain": [
       "'\\nt = data_train[:,8]   # column of targets\\nt0 = np.mean(t)\\n\\nN_test = data_test.shape[0]\\nX_test = np.hstack((np.ones((N_test,1)), M_test[:,0:8]))  \\n# Here the 1st column of X_test is a column of ones.\\nt_hat_reg = X_test.dot(beta_hat_reg)\\n'"
      ]
     },
     "execution_count": 81,
     "metadata": {},
     "output_type": "execute_result"
    }
   ],
   "source": [
    "\"\"\"\n",
    "t = data_train[:,8]   # column of targets\n",
    "t0 = np.mean(t)\n",
    "\n",
    "N_test = data_test.shape[0]\n",
    "X_test = np.hstack((np.ones((N_test,1)), M_test[:,0:8]))  \n",
    "# Here the 1st column of X_test is a column of ones.\n",
    "t_hat_reg = X_test.dot(beta_hat_reg)\n",
    "\"\"\""
   ]
  },
  {
   "cell_type": "code",
   "execution_count": 82,
   "metadata": {
    "collapsed": true
   },
   "outputs": [],
   "source": [
    "# Exercise 3\n",
    "# Center the target\n",
    "t = data_train[:,8]   # column of targets\n",
    "t0 = np.mean(t) # The mean of the targets. This value is the same as beta_hat[0]\n",
    "tc = t - t0 # Center the targets"
   ]
  },
  {
   "cell_type": "code",
   "execution_count": 83,
   "metadata": {
    "collapsed": true
   },
   "outputs": [],
   "source": [
    "# Normalize the features: The features where already normalize within M_train\n",
    "Xc_train = M_train[:,0:8]"
   ]
  },
  {
   "cell_type": "code",
   "execution_count": 84,
   "metadata": {},
   "outputs": [],
   "source": [
    "Lambda = 25 # The regularization term\n",
    "\n",
    "beta_hat_rg = inv(Lambda*np.identity(p) + Xc_train.T.dot(Xc_train)).dot(Xc_train.T).dot(tc)"
   ]
  },
  {
   "cell_type": "code",
   "execution_count": 87,
   "metadata": {},
   "outputs": [
    {
     "name": "stdout",
     "output_type": "stream",
     "text": [
      "The ridge regression vector is [ 2.45234509  0.4221092   0.24879171 -0.04226499  0.16575364  0.23091485\n",
      "  0.01066329  0.04306017  0.13151316]\n",
      "The regression vector of Exercise 1 is [ 2.45234509  0.71104059  0.29045029 -0.14148182  0.21041951  0.30730025\n",
      " -0.28684075 -0.02075686  0.27526843]\n",
      "The regression vector of Exercise 2 is [ 2.45234509  0.71104059  0.29045029  0.          0.21041951  0.30730025\n",
      "  0.          0.          0.        ]\n",
      "The main common point between the above regression vectors is the intercept/the bias which is the same !\n",
      "We can notice as well that some coefficients increased and other decreased.\n"
     ]
    }
   ],
   "source": [
    "# The ridge regression vector is therefore:\n",
    "\n",
    "beta_hat_reg = np.hstack((beta_hat[0], beta_hat_rg[0:8]))\n",
    "\n",
    "print(\"The ridge regression vector is \"+str(beta_hat_reg))\n",
    "print(\"The regression vector of Exercise 1 is \"+str(beta_hat))\n",
    "print(\"The regression vector of Exercise 2 is \"+str(beta_hat_new))\n",
    "\n",
    "print(\"The main common point between the above regression vectors is the intercept/the bias which is the same !\")\n",
    "print(\"We can notice as well that some coefficients increased and other decreased.\")\n",
    "\n"
   ]
  },
  {
   "cell_type": "code",
   "execution_count": 89,
   "metadata": {},
   "outputs": [
    {
     "name": "stdout",
     "output_type": "stream",
     "text": [
      "The prediction error in ridge regression is 0.493942159912.\n",
      "The error in ridge regression is lower than in regular regression (Exercise 1), and higher than the one after features selection in Exercise 2.\n"
     ]
    }
   ],
   "source": [
    "# Estimate the prediction error from the test set.\n",
    "\n",
    "# Estimation of the prediction over test data\n",
    "N_test = data_test.shape[0]\n",
    "Xc_test = np.hstack((np.ones((N_test,1)), M_test[:,0:8])) # From M_test, the test data are already normalized.\n",
    "\n",
    "t_hat_reg_test = X_test.dot(beta_hat_reg)\n",
    "\n",
    "# Computation of the Mean Squared Error in ridge regression (MSE_reg)\n",
    "MSE_reg = np.mean(np.square(t_test - t_hat_reg_test))\n",
    "\n",
    "print(\"The prediction error in ridge regression is \"+str(MSE_reg)+\".\")\n",
    "print(\"The error in ridge regression is lower than in regular regression (Exercise 1), and higher than the one after features selection in Exercise 2.\")\n"
   ]
  },
  {
   "cell_type": "code",
   "execution_count": 90,
   "metadata": {},
   "outputs": [
    {
     "name": "stdout",
     "output_type": "stream",
     "text": [
      "The prediction error with the best regression vector is 0.493942159912.\n"
     ]
    }
   ],
   "source": [
    "# Estimation of the prediction error over test data with the best regression vector\n",
    "beta_best = np.array([ 2.477,  0.74 ,  0.316, 0.0,  0.0, 0.0,  0.0,  0.0,  0.0])\n",
    "\n",
    "t_hat_best_test = Xc_test.dot(beta_hat_reg)\n",
    "MSE_best = np.mean(np.square(t_test - t_hat_best_test))\n",
    "\n",
    "print(\"The prediction error with the best regression vector is \"+str(MSE_best)+\".\")\n"
   ]
  },
  {
   "cell_type": "code",
   "execution_count": 91,
   "metadata": {},
   "outputs": [
    {
     "data": {
      "text/plain": [
       "0.0"
      ]
     },
     "execution_count": 91,
     "metadata": {},
     "output_type": "execute_result"
    }
   ],
   "source": [
    "MSE_best-MSE_reg"
   ]
  },
  {
   "cell_type": "code",
   "execution_count": 92,
   "metadata": {},
   "outputs": [
    {
     "name": "stdout",
     "output_type": "stream",
     "text": [
      "It appears that the prediction with the best regession vector gives the same mean squared error as the ridge regression vector.\n"
     ]
    }
   ],
   "source": [
    "# You may also compare these results to the result of best subset selection\n",
    "print(\"It appears that the prediction with the best regession vector gives the same mean squared error as the ridge regression vector.\")"
   ]
  },
  {
   "cell_type": "markdown",
   "metadata": {},
   "source": [
    "# Part 3: Cross-Validation \n",
    "\n",
    "## How to choose lambda from the training data set only ? \n",
    "\n",
    "The idea is to decompose the training set in 2 subsets: one subset for\n",
    "linear regression (say 9/10 of the data), the other to estimate the prediction error (say 1/10 of the data).\n",
    "\n",
    "We can repeat this operation 10 times over the 10 possible couples of\n",
    "subsets to estimate the average prediction error. We will choose the\n",
    "value of `lambda` which minimizes this error. The algorithm goes as\n",
    "follows:\n",
    "\n",
    "For the 10 cross-validation cases\n",
    "    \n",
    "    Extraction of test & training subsets `testset` & `trainset`\n",
    "    \n",
    "    For lambda in 0:40\n",
    "        Estimate `beta_hat` from normalized `trainset` (mean=0, var=1)\n",
    "        Estimate the error from  `testset`\n",
    "    EndFor lambda\n",
    "\n",
    "EndFor 10 cases\n",
    "\n",
    "Compute the average error for each lambda\n",
    "\n",
    "Choose `lambda` which minimizes the error \n"
   ]
  },
  {
   "cell_type": "markdown",
   "metadata": {},
   "source": [
    "## Exercise 4\n",
    "* Use 6-fold cross-validation in the present study to optimize the choice of `lambda`. \n",
    "Try values of `lambda` ranging from 0 to 40 for instance (0:40).\n",
    "* Plot the estimated error as a function of `lambda`.\n",
    "* Propose a well chosen value of `lambda` and give the estimated corresponding\n",
    "error on the test set.\n",
    "* Comment on your results.\n",
    "\n",
    "*Indication 1 : think of shuffling the dataset first.*\n",
    "\n",
    "*Indication 2 : you can build 6 training and test subsets by using the code below*"
   ]
  },
  {
   "cell_type": "code",
   "execution_count": 96,
   "metadata": {},
   "outputs": [],
   "source": [
    "lmax = 40\n",
    "lambda_pos = arange(0,lmax+1) \n",
    "\n",
    "N_test = 10\n",
    "m=np.zeros(8)\n",
    "s = np.zeros(8)\n",
    "X_traink = np.zeros((X_train.shape[0]-N_test,8))\n",
    "X_testk = np.zeros((N_test,8))\n",
    "erreur = np.zeros((6,lmax+1))\n",
    "erreur_rel = np.zeros((6,lmax+1))"
   ]
  },
  {
   "cell_type": "code",
   "execution_count": 102,
   "metadata": {},
   "outputs": [
    {
     "name": "stdout",
     "output_type": "stream",
     "text": [
      "[[ 1.04820039  1.07555701  1.10176217  1.1269283   1.15115733  1.17453933\n",
      "   1.19715304  1.219067    1.24034084  1.26102657  1.28116963  1.30080991\n",
      "   1.31998256  1.33871867  1.35704586  1.37498878  1.39256952  1.40980794\n",
      "   1.42672197  1.44332786  1.45964039  1.47567306  1.49143822  1.50694722\n",
      "   1.52221049  1.53723772  1.55203782  1.56661913  1.58098936  1.59515575\n",
      "   1.60912503  1.62290355  1.63649724  1.64991171  1.66315222  1.67622375\n",
      "   1.68913103  1.70187851  1.71447044  1.72691084  1.73920355]\n",
      " [ 0.32536477  0.30984217  0.29763909  0.28786152  0.27990441  0.27334495\n",
      "   0.2678796   0.26328534  0.25939497  0.25608096  0.25324447  0.25080785\n",
      "   0.24870933  0.24689923  0.24533713  0.24398991  0.24283014  0.24183492\n",
      "   0.24098504  0.24026422  0.23965858  0.23915626  0.23874701  0.23842196\n",
      "   0.23817338  0.2379945   0.23787937  0.23782274  0.23781996  0.23786686\n",
      "   0.23795974  0.23809529  0.23827049  0.23848265  0.23872931  0.23900825\n",
      "   0.23931744  0.23965502  0.24001929  0.24040868  0.24082176]\n",
      " [ 1.15294263  1.07997368  1.02861321  0.98956094  0.95800017  0.93126624\n",
      "   0.90780509  0.8866698   0.86726133  0.84918789  0.83218533  0.81607038\n",
      "   0.8007123   0.78601529  0.77190721  0.7583323   0.74524633  0.73261334\n",
      "   0.7204034   0.70859104  0.69715422  0.68607347  0.6753314   0.66491227\n",
      "   0.65480166  0.64498627  0.63545377  0.6261926   0.61719195  0.60844162\n",
      "   0.59993197  0.59165387  0.58359866  0.57575811  0.56812438  0.56068999\n",
      "   0.55344784  0.5463911   0.53951328  0.53280818  0.52626984]\n",
      " [ 0.51278895  0.51467329  0.51641738  0.51793267  0.51918293  0.52015921\n",
      "   0.52086673  0.52131792  0.52152856  0.52151567  0.52129629  0.52088695\n",
      "   0.52030325  0.51955978  0.51867008  0.51764662  0.51650088  0.51524338\n",
      "   0.5138838   0.51243101  0.51089314  0.50927767  0.50759145  0.50584079\n",
      "   0.50403151  0.50216894  0.500258    0.49830324  0.49630886  0.49427873\n",
      "   0.49221643  0.49012529  0.48800836  0.4858685   0.48370836  0.48153036\n",
      "   0.4793368   0.47712978  0.47491126  0.47268307  0.4704469 ]\n",
      " [ 0.47635253  0.45661931  0.43962279  0.42473319  0.41151006  0.39963489\n",
      "   0.38887079  0.37903726  0.36999391  0.36162956  0.35385477  0.34659658\n",
      "   0.33979477  0.33339903  0.32736699  0.32166257  0.31625486  0.31111717\n",
      "   0.30622627  0.30156185  0.29710605  0.29284305  0.28875883  0.28484084\n",
      "   0.28107784  0.27745972  0.27397735  0.27062245  0.2673875   0.26426563\n",
      "   0.26125056  0.25833654  0.25551828  0.25279089  0.25014988  0.24759108\n",
      "   0.2451106   0.24270487  0.24037053  0.23810445  0.23590373]\n",
      " [ 0.51807756  0.50381195  0.49241785  0.48326046  0.47586871  0.46988754\n",
      "   0.46504556  0.4611327   0.45798443  0.45547054  0.45348695  0.45194973\n",
      "   0.45079064  0.44995374  0.4493929   0.44906976  0.44895227  0.44901348\n",
      "   0.4492306   0.44958427  0.45005794  0.45063742  0.45131049  0.45206657\n",
      "   0.45289648  0.4537922   0.45474671  0.45575388  0.45680827  0.45790509\n",
      "   0.45904011  0.46020956  0.46141006  0.46263861  0.46389253  0.4651694\n",
      "   0.46646705  0.46778351  0.469117    0.47046593  0.47182884]]\n"
     ]
    }
   ],
   "source": [
    "# Exercise 4 \n",
    "for p in range(6):   # loop on test subsets\n",
    "    # extraction of testset\n",
    "    testset  = data_train[arange(p*N_test,(p+1)*N_test),0:9] \n",
    "    # extraction of trainset\n",
    "    trainset = data_train[hstack((arange(p*N_test),arange((p+1)*N_test,data_train.shape[0]))),0:9]\n",
    "    # Center the target\n",
    "    target_train = trainset[:,8]  # column of targets\n",
    "    target0 = np.mean(target_train) # The mean of the targets.\n",
    "    targetc = target_train - target0 # The targets of the train set are centered\n",
    "    # normalization of entries, features\n",
    "    for i in range(8): # 8 columns of entries\n",
    "        m[i]=np.mean(trainset[:,i])\n",
    "        s[i] = np.std(trainset[:,i], ddof=0)\n",
    "        X_traink[:,i] = (trainset[:,i]-m[i])/s[i] # normalized: centered, variance 1\n",
    "        X_testk[:,i] = (testset[:,i]-m[i])/s[i]   # same normalization for test set\n",
    "    for lambda_p in range(lmax+1): # 40 options of lambda\n",
    "        beta_hat_cv = inv(lambda_p*np.identity(8) + X_traink.T.dot(X_traink)).dot(X_traink.T).dot(targetc)\n",
    "        X_test_cv = np.hstack((np.ones((N_test,1)), X_testk[:,0:8]))\n",
    "        \n",
    "        beta_hat_reg_cv = np.hstack((beta_hat[0], beta_hat_cv[0:8]))\n",
    "        t_hat_cv_test = X_test_cv.dot(beta_hat_reg_cv)\n",
    "        # Computation of the Mean Squared Error in ridge regression (erreur)\n",
    "        erreur[p,lambda_p] = np.mean(np.square(testset[:,8] - t_hat_cv_test))\n",
    "print(erreur)\n",
    "        \n"
   ]
  },
  {
   "cell_type": "code",
   "execution_count": 60,
   "metadata": {},
   "outputs": [
    {
     "data": {
      "text/plain": [
       "(67, 9)"
      ]
     },
     "execution_count": 60,
     "metadata": {},
     "output_type": "execute_result"
    }
   ],
   "source": []
  },
  {
   "cell_type": "code",
   "execution_count": null,
   "metadata": {
    "collapsed": true
   },
   "outputs": [],
   "source": [
    "# Exercise 4 ---------------\n",
    "# ...\n",
    "# averaged error on the 6 training/test sets ?\n",
    "# averaged error on the 6 training/test sets ?\n",
    "# standard variation of this error estimate ?\n",
    "\n",
    "# print(erreur_lambda, std_erreur_lambda, erreur_rel_lambda)\n"
   ]
  },
  {
   "cell_type": "code",
   "execution_count": null,
   "metadata": {
    "collapsed": true
   },
   "outputs": [],
   "source": [
    "# Exercise 4 FIGURE ---------------\n",
    "# ...\n"
   ]
  },
  {
   "cell_type": "code",
   "execution_count": null,
   "metadata": {
    "collapsed": true
   },
   "outputs": [],
   "source": [
    "# Exercise 4 (continued)\n"
   ]
  }
 ],
 "metadata": {
  "kernelspec": {
   "display_name": "Python 3",
   "language": "python",
   "name": "python3"
  },
  "language_info": {
   "codemirror_mode": {
    "name": "ipython",
    "version": 3
   },
   "file_extension": ".py",
   "mimetype": "text/x-python",
   "name": "python",
   "nbconvert_exporter": "python",
   "pygments_lexer": "ipython3",
   "version": "3.6.1"
  }
 },
 "nbformat": 4,
 "nbformat_minor": 2
}
